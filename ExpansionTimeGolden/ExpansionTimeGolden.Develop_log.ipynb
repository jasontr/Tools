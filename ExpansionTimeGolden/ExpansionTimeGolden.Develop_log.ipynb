{
 "cells": [
  {
   "cell_type": "markdown",
   "metadata": {},
   "source": [
    "# Develop Log"
   ]
  },
  {
   "cell_type": "markdown",
   "metadata": {},
   "source": [
    "## Import"
   ]
  },
  {
   "cell_type": "code",
   "execution_count": 9,
   "metadata": {
    "collapsed": true
   },
   "outputs": [],
   "source": [
    "import re"
   ]
  },
  {
   "cell_type": "markdown",
   "metadata": {},
   "source": [
    "## create Node class"
   ]
  },
  {
   "cell_type": "code",
   "execution_count": 1,
   "metadata": {
    "collapsed": true
   },
   "outputs": [],
   "source": [
    "class Node(object):\n",
    "    def __init__(self, data):\n",
    "        self.data = data\n",
    "        self.children = []\n",
    "    \n",
    "    def add_child_node(self, obj):\n",
    "        self.children.append(obj)"
   ]
  },
  {
   "cell_type": "markdown",
   "metadata": {},
   "source": [
    "test class"
   ]
  },
  {
   "cell_type": "code",
   "execution_count": 6,
   "metadata": {
    "collapsed": false
   },
   "outputs": [
    {
     "name": "stdout",
     "output_type": "stream",
     "text": [
      "a0\n",
      "[<__main__.Node object at 0x0000000002B71EF0>, <__main__.Node object at 0x0000000002B83128>]\n"
     ]
    }
   ],
   "source": [
    "a = []\n",
    "a.append(Node(\"a0\"))\n",
    "a.append(Node(\"a00\"))\n",
    "a.append(Node(\"a01\"))\n",
    "a[0].add_child_node(a[1])\n",
    "a[0].add_child_node(a[2])\n",
    "print a[0].data\n",
    "print a[0].children"
   ]
  },
  {
   "cell_type": "markdown",
   "metadata": {},
   "source": [
    "## File System"
   ]
  },
  {
   "cell_type": "code",
   "execution_count": 93,
   "metadata": {
    "collapsed": true
   },
   "outputs": [],
   "source": [
    "def load_data(path):\n",
    "    with open(path, \"r\") as data_file:\n",
    "        text = data_file.readlines()\n",
    "    return text"
   ]
  },
  {
   "cell_type": "markdown",
   "metadata": {},
   "source": [
    "## Data Process"
   ]
  },
  {
   "cell_type": "markdown",
   "metadata": {},
   "source": [
    "### Regular Expression Part"
   ]
  },
  {
   "cell_type": "code",
   "execution_count": 114,
   "metadata": {
    "collapsed": false
   },
   "outputs": [],
   "source": [
    "def reg_exp(textline):\n",
    "    patt = '^\\<(\\/node)\\>$|^\\<(node).*TEXT\\=\"(.*)( \\[.*\\])?\"(/)?>'\n",
    "    regexp = re.compile(patt)\n",
    "    result = None\n",
    "    try:\n",
    "        m = re.search(regexp, textline)\n",
    "        result = m.groups()\n",
    "    finally:\n",
    "        return result "
   ]
  },
  {
   "cell_type": "code",
   "execution_count": 75,
   "metadata": {
    "collapsed": false
   },
   "outputs": [
    {
     "name": "stdout",
     "output_type": "stream",
     "text": [
      "(None, 'node', '\\xe5\\xb7\\xa5\\xe4\\xbd\\x9c', None, '/')\n",
      "('/node', None, None, None, None)\n"
     ]
    }
   ],
   "source": [
    "#test reg_exp()\n",
    "text = '<node CREATED=\"1480514574435\" ID=\"ID_10\" MODIFIED=\"1480514574435\" POSITION=\"right\" TEXT=\"工作\"/>'\n",
    "print reg_exp(text)\n",
    "txt = '</node>'\n",
    "print reg_exp(txt)\n",
    "m = reg_exp(text)\n",
    "if not m[0]:print m[2]"
   ]
  },
  {
   "cell_type": "markdown",
   "metadata": {},
   "source": [
    "### Processing"
   ]
  },
  {
   "cell_type": "code",
   "execution_count": 81,
   "metadata": {
    "collapsed": false
   },
   "outputs": [],
   "source": [
    "def data_process(textdata):\n",
    "    textprocessed = []\n",
    "    for line in textdata:\n",
    "        reg = reg_exp(line)\n",
    "        if reg is not None:\n",
    "            textprocessed.append(reg)\n",
    "    return textprocessed"
   ]
  },
  {
   "cell_type": "code",
   "execution_count": 84,
   "metadata": {
    "collapsed": false
   },
   "outputs": [
    {
     "name": "stdout",
     "output_type": "stream",
     "text": [
      "[(None, 'node', 'hobby', None, None), (None, 'node', '\\xe5\\xb7\\xa5\\xe4\\xbd\\x9c', None, '/'), ('/node', None, None, None, None)]\n"
     ]
    }
   ],
   "source": [
    "#test data_process()\n",
    "text = ['<node CREATED=\"1480514574435\" ID=\"ID_10\" MODIFIED=\"1480514574435\" POSITION=\"right\" TEXT=\"hobby\">',\\\n",
    "        '<node CREATED=\"1480514574435\" ID=\"ID_10\" MODIFIED=\"1480514574435\" POSITION=\"right\" TEXT=\"工作\"/>',\\\n",
    "        '<!-- To view this file, download free mind mapping software FreeMind from http://freemind.sourceforge.net -->',\\\n",
    "        '</node>']\n",
    "print data_process(text)"
   ]
  },
  {
   "cell_type": "markdown",
   "metadata": {},
   "source": []
  },
  {
   "cell_type": "code",
   "execution_count": 104,
   "metadata": {
    "collapsed": true
   },
   "outputs": [],
   "source": [
    "def translate_textline2logic(textline):\n",
    "    if textline[0] is not None:\n",
    "        return \"back\"\n",
    "    else:\n",
    "        if textline[4] is None:\n",
    "            have_children = 1\n",
    "        else:\n",
    "            have_children = 0\n",
    "        data = textline[2]\n",
    "        return [data, have_children]"
   ]
  },
  {
   "cell_type": "code",
   "execution_count": 131,
   "metadata": {
    "collapsed": false
   },
   "outputs": [],
   "source": [
    "def create_tree(data_processed):\n",
    "    #if len(data_processed) > 1:\n",
    "        tree = []\n",
    "        have_children = []\n",
    "        for line_processed in data_processed:\n",
    "            tmp = translate_textline2logic(line_processed)\n",
    "            if tmp is not \"back\":\n",
    "                tree.append(Node(tmp[0]))\n",
    "                have_children.append(tmp[1])\n",
    "            else:\n",
    "                tree.append(None)\n",
    "                have_children.append(None)\n",
    "        i = 1\n",
    "        while len(tree) > 1:\n",
    "            if tree[i] is not None:\n",
    "                tree[i-1].add_child_node(tree[i])            \n",
    "                if not have_children[i]:\n",
    "                        del tree[i]\n",
    "                        del have_children[i]\n",
    "                else:\n",
    "                    i += 1\n",
    "            else:\n",
    "                del tree[i]\n",
    "                del have_children[i]\n",
    "                if len(tree) != 1:\n",
    "                    del tree[i-1]\n",
    "                    del have_children[i-1]\n",
    "                i -= 1\n",
    "        return tree[0]\n",
    "    #else:\n",
    "        #return tree[0]"
   ]
  },
  {
   "cell_type": "markdown",
   "metadata": {},
   "source": [
    "## Main"
   ]
  },
  {
   "cell_type": "code",
   "execution_count": 132,
   "metadata": {
    "collapsed": false
   },
   "outputs": [],
   "source": [
    "textdata = load_data('TimeGolden_2016_11_30.mm.utf8.txt')\n",
    "dp = data_process(textdata)\n",
    "tree = create_tree(dp)"
   ]
  },
  {
   "cell_type": "code",
   "execution_count": 133,
   "metadata": {
    "collapsed": false
   },
   "outputs": [
    {
     "name": "stdout",
     "output_type": "stream",
     "text": [
      "收集箱 [46分钟]\n"
     ]
    }
   ],
   "source": [
    "print tree.children[0].data"
   ]
  },
  {
   "cell_type": "code",
   "execution_count": null,
   "metadata": {
    "collapsed": false
   },
   "outputs": [],
   "source": []
  },
  {
   "cell_type": "code",
   "execution_count": null,
   "metadata": {
    "collapsed": true
   },
   "outputs": [],
   "source": []
  }
 ],
 "metadata": {
  "anaconda-cloud": {},
  "kernelspec": {
   "display_name": "Python [conda root]",
   "language": "python",
   "name": "conda-root-py"
  },
  "language_info": {
   "codemirror_mode": {
    "name": "ipython",
    "version": 2
   },
   "file_extension": ".py",
   "mimetype": "text/x-python",
   "name": "python",
   "nbconvert_exporter": "python",
   "pygments_lexer": "ipython2",
   "version": "2.7.12"
  }
 },
 "nbformat": 4,
 "nbformat_minor": 1
}
